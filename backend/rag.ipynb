{
 "cells": [
  {
   "cell_type": "code",
   "execution_count": 18,
   "metadata": {},
   "outputs": [],
   "source": [
    "from app.loader import add_docs_to_knowledge_base\n",
    "from app.db import create_vectors_index, count_vectors\n",
    "from IPython import display"
   ]
  },
  {
   "cell_type": "code",
   "execution_count": 2,
   "metadata": {},
   "outputs": [
    {
     "name": "stdout",
     "output_type": "stream",
     "text": [
      "Index idx:vectors created successfully\n"
     ]
    }
   ],
   "source": [
    "await create_vectors_index()"
   ]
  },
  {
   "cell_type": "code",
   "execution_count": 3,
   "metadata": {},
   "outputs": [
    {
     "name": "stdout",
     "output_type": "stream",
     "text": [
      "Loading documents\n"
     ]
    },
    {
     "name": "stderr",
     "output_type": "stream",
     "text": [
      "100%|██████████| 1/1 [00:04<00:00,  4.14s/it]\n"
     ]
    },
    {
     "name": "stdout",
     "output_type": "stream",
     "text": [
      "Loaded 1 PDF documents\n",
      "\n",
      "Splitting documents into chunks\n",
      "Inception.pdf: 127 chunks\n",
      "\n",
      "Total chunks: 127\n",
      "Min chunk size: 351 tokens\n",
      "Max chunk size: 512 tokens\n",
      "Average chunk size: 496 tokens\n",
      "\n",
      "Embedding chunks\n"
     ]
    },
    {
     "name": "stderr",
     "output_type": "stream",
     "text": [
      "100%|██████████| 127/127 [00:02<00:00, 45.94it/s]"
     ]
    },
    {
     "name": "stdout",
     "output_type": "stream",
     "text": [
      "\n",
      "Adding chunks to vector DB\n"
     ]
    },
    {
     "name": "stderr",
     "output_type": "stream",
     "text": [
      "\n"
     ]
    }
   ],
   "source": [
    "await add_docs_to_knowledge_base()"
   ]
  },
  {
   "cell_type": "code",
   "execution_count": 4,
   "metadata": {},
   "outputs": [
    {
     "name": "stdout",
     "output_type": "stream",
     "text": [
      "Total vectors: 127\n"
     ]
    }
   ],
   "source": [
    "total_vectors = await count_vectors()\n",
    "print(f'Total vectors: {total_vectors}')"
   ]
  },
  {
   "cell_type": "code",
   "execution_count": 1,
   "metadata": {},
   "outputs": [],
   "source": [
    "import json\n",
    "from time import time\n",
    "from uuid import uuid4\n",
    "from IPython.display import display, JSON\n",
    "from redis.asyncio import Redis\n",
    "from redis.commands.search.field import TextField, VectorField\n",
    "from redis.commands.search.indexDefinition import IndexDefinition, IndexType\n",
    "from redis.commands.search.query import Query\n",
    "from redis.commands.json.path import Path\n",
    "from app.config import settings\n",
    "from app.db import create_chat_index, create_chat, add_chat_messages, get_chat_messages, get_all_chats, delete_chats, get_chat\n",
    "\n",
    "r = Redis(host=settings.REDIS_HOST, port=settings.REDIS_PORT)"
   ]
  },
  {
   "cell_type": "code",
   "execution_count": 3,
   "metadata": {},
   "outputs": [
    {
     "name": "stdout",
     "output_type": "stream",
     "text": [
      "Error creating index idx:chat: Index already exists\n"
     ]
    }
   ],
   "source": [
    "await create_chat_index()"
   ]
  },
  {
   "cell_type": "code",
   "execution_count": 35,
   "metadata": {},
   "outputs": [
    {
     "name": "stdout",
     "output_type": "stream",
     "text": [
      "[]\n"
     ]
    }
   ],
   "source": [
    "res = await r.ft('idx:chat').search(Query('*').return_field(\"$.id\", as_field=\"chat_id\"))\n",
    "print([doc.chat_id for doc in res.docs])\n",
    "# await delete_chats(*[doc.chat_id for doc in res.docs])"
   ]
  },
  {
   "cell_type": "code",
   "execution_count": 12,
   "metadata": {},
   "outputs": [],
   "source": [
    "await add_chat_messages('1931cbac', [\n",
    "    {'role': 'user', 'content': 'Hello there'},\n",
    "    {'role': 'assistant', 'content': 'Hello, how can I help you?'}\n",
    "])"
   ]
  },
  {
   "cell_type": "code",
   "execution_count": 12,
   "metadata": {},
   "outputs": [],
   "source": [
    "chats = await get_all_chats()\n",
    "print(json.dumps(chats, indent=2))"
   ]
  },
  {
   "cell_type": "code",
   "execution_count": 15,
   "metadata": {},
   "outputs": [
    {
     "name": "stdout",
     "output_type": "stream",
     "text": [
      "{\n",
      "  \"id\": \"31c1e6d3\",\n",
      "  \"created\": 1723207233,\n",
      "  \"messages\": [\n",
      "    {\n",
      "      \"role\": \"user\",\n",
      "      \"content\": \"What is the most resilient parasite?\",\n",
      "      \"created\": 1723221771\n",
      "    },\n",
      "    {\n",
      "      \"role\": \"assistant\",\n",
      "      \"content\": \"The most resilient parasite is an idea. As Cobb explains, \\\"Resilient, highly contagious. Once an idea\\u2019s taken hold in the brain it\\u2019s almost impossible to eradicate.\\\" He elaborates that while information can be forgotten, a fully formed and understood idea \\\"sticks\\\" in the mind, making it very difficult to remove.\",\n",
      "      \"tool_calls\": [\n",
      "        {\n",
      "          \"name\": \"QueryKnowledgeBaseTool\",\n",
      "          \"arguments\": \"{\\\"query_input\\\":\\\"What is the most resilient parasite?\\\"}\"\n",
      "        }\n",
      "      ],\n",
      "      \"created\": 1723221774\n",
      "    },\n",
      "    {\n",
      "      \"role\": \"user\",\n",
      "      \"content\": \"Who is Cobb?\",\n",
      "      \"created\": 1723222424\n",
      "    },\n",
      "    {\n",
      "      \"role\": \"assistant\",\n",
      "      \"content\": \"Cobb is a character who plays a central role in the film \\\"Inception.\\\" He is portrayed as a skilled thief and forger who specializes in extracting secrets from people's subconscious during dreams. Throughout the film, he is involved in a complex mission to perform inception, which is the act of planting an idea in someone's mind. Cobb's character is driven by personal motivations, particularly his desire to return to his children in America. He is depicted as a resourceful and determined individual, often leading a team to navigate the intricacies of dream manipulation.\",\n",
      "      \"tool_calls\": [\n",
      "        {\n",
      "          \"name\": \"QueryKnowledgeBaseTool\",\n",
      "          \"arguments\": \"{\\\"query_input\\\":\\\"Who is Cobb?\\\"}\"\n",
      "        }\n",
      "      ],\n",
      "      \"created\": 1723222427\n",
      "    }\n",
      "  ]\n",
      "}\n"
     ]
    }
   ],
   "source": [
    "chat = await get_chat('chat:31c1e6d3')\n",
    "print(json.dumps(chat, indent=2))"
   ]
  },
  {
   "cell_type": "code",
   "execution_count": null,
   "metadata": {},
   "outputs": [],
   "source": []
  }
 ],
 "metadata": {
  "kernelspec": {
   "display_name": ".venv",
   "language": "python",
   "name": "python3"
  },
  "language_info": {
   "codemirror_mode": {
    "name": "ipython",
    "version": 3
   },
   "file_extension": ".py",
   "mimetype": "text/x-python",
   "name": "python",
   "nbconvert_exporter": "python",
   "pygments_lexer": "ipython3",
   "version": "3.12.4"
  }
 },
 "nbformat": 4,
 "nbformat_minor": 2
}
