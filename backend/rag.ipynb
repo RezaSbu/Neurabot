{
 "cells": [
  {
   "cell_type": "code",
   "execution_count": 130,
   "metadata": {},
   "outputs": [],
   "source": [
    "from app.loader import add_docs_to_knowledge_base\n",
    "from app.db import create_vectors_index, count_vectors\n",
    "from IPython import display"
   ]
  },
  {
   "cell_type": "code",
   "execution_count": 2,
   "metadata": {},
   "outputs": [
    {
     "name": "stdout",
     "output_type": "stream",
     "text": [
      "Index idx:vectors created successfully\n"
     ]
    }
   ],
   "source": [
    "await create_vectors_index()"
   ]
  },
  {
   "cell_type": "code",
   "execution_count": 3,
   "metadata": {},
   "outputs": [
    {
     "name": "stdout",
     "output_type": "stream",
     "text": [
      "Loading documents\n"
     ]
    },
    {
     "name": "stderr",
     "output_type": "stream",
     "text": [
      "100%|██████████| 1/1 [00:04<00:00,  4.14s/it]\n"
     ]
    },
    {
     "name": "stdout",
     "output_type": "stream",
     "text": [
      "Loaded 1 PDF documents\n",
      "\n",
      "Splitting documents into chunks\n",
      "Inception.pdf: 127 chunks\n",
      "\n",
      "Total chunks: 127\n",
      "Min chunk size: 351 tokens\n",
      "Max chunk size: 512 tokens\n",
      "Average chunk size: 496 tokens\n",
      "\n",
      "Embedding chunks\n"
     ]
    },
    {
     "name": "stderr",
     "output_type": "stream",
     "text": [
      "100%|██████████| 127/127 [00:02<00:00, 45.94it/s]"
     ]
    },
    {
     "name": "stdout",
     "output_type": "stream",
     "text": [
      "\n",
      "Adding chunks to vector DB\n"
     ]
    },
    {
     "name": "stderr",
     "output_type": "stream",
     "text": [
      "\n"
     ]
    }
   ],
   "source": [
    "await add_docs_to_knowledge_base()"
   ]
  },
  {
   "cell_type": "code",
   "execution_count": 4,
   "metadata": {},
   "outputs": [
    {
     "name": "stdout",
     "output_type": "stream",
     "text": [
      "Total vectors: 127\n"
     ]
    }
   ],
   "source": [
    "total_vectors = await count_vectors()\n",
    "print(f'Total vectors: {total_vectors}')"
   ]
  },
  {
   "cell_type": "code",
   "execution_count": 1,
   "metadata": {},
   "outputs": [],
   "source": [
    "import json\n",
    "from time import time\n",
    "from uuid import uuid4\n",
    "from IPython.display import display, JSON\n",
    "from redis.asyncio import Redis\n",
    "from redis.commands.search.field import TextField, VectorField\n",
    "from redis.commands.search.indexDefinition import IndexDefinition, IndexType\n",
    "from redis.commands.search.query import Query\n",
    "from app.config import settings\n",
    "from app.db import create_chat_index, create_chat, add_chat_messages, get_chat_messages, get_all_chats\n",
    "\n",
    "r = Redis(host=settings.REDIS_HOST, port=settings.REDIS_PORT)"
   ]
  },
  {
   "cell_type": "code",
   "execution_count": 3,
   "metadata": {},
   "outputs": [
    {
     "name": "stdout",
     "output_type": "stream",
     "text": [
      "Error creating index idx:chat: Index already exists\n"
     ]
    }
   ],
   "source": [
    "await create_chat_index()"
   ]
  },
  {
   "cell_type": "code",
   "execution_count": 4,
   "metadata": {},
   "outputs": [
    {
     "data": {
      "application/json": {
       "created": 1722968959,
       "id": "787acc90",
       "messages": [
        {
         "content": "How are you doing?",
         "created": 1722969739,
         "role": "user"
        },
        {
         "content": "I am doing well thank you!",
         "created": 1722969739,
         "role": "assistant"
        },
        {
         "content": "How can you help me?",
         "created": 1722970232,
         "role": "user"
        },
        {
         "content": "I am a helpful assistant",
         "created": 1722970232,
         "role": "assistant"
        }
       ]
      },
      "text/plain": [
       "<IPython.core.display.JSON object>"
      ]
     },
     "metadata": {
      "application/json": {
       "expanded": false,
       "root": "root"
      }
     },
     "output_type": "display_data"
    }
   ],
   "source": [
    "res = await r.ft('idx:chat').search(Query('*'))\n",
    "for doc in res.docs:\n",
    "    display(JSON(json.loads(doc.json)))"
   ]
  },
  {
   "cell_type": "code",
   "execution_count": 5,
   "metadata": {},
   "outputs": [
    {
     "data": {
      "text/plain": [
       "{'id': '376606d1', 'created': 1722970907, 'messages': []}"
      ]
     },
     "execution_count": 5,
     "metadata": {},
     "output_type": "execute_result"
    }
   ],
   "source": [
    "chat_id = str(uuid4())[:8]\n",
    "created = int(time())\n",
    "chat = await create_chat(chat_id, created)\n",
    "chat"
   ]
  },
  {
   "cell_type": "code",
   "execution_count": 6,
   "metadata": {},
   "outputs": [],
   "source": [
    "messages = [\n",
    "    {'role': 'user', 'content': 'How can you help me?', 'created': int(time())},\n",
    "    {'role': 'assistant', 'content': 'I am a helpful assistant', 'created': int(time())}\n",
    "]\n",
    "await add_chat_messages(chat_id='787acc90', messages=messages)"
   ]
  },
  {
   "cell_type": "code",
   "execution_count": 7,
   "metadata": {},
   "outputs": [
    {
     "data": {
      "text/plain": [
       "[{'role': 'user', 'content': 'How can you help me?', 'created': 1722970907},\n",
       " {'role': 'assistant',\n",
       "  'content': 'I am a helpful assistant',\n",
       "  'created': 1722970907}]"
      ]
     },
     "execution_count": 7,
     "metadata": {},
     "output_type": "execute_result"
    }
   ],
   "source": [
    "await get_chat_messages(chat_id='787acc90', last_n=2)"
   ]
  },
  {
   "cell_type": "code",
   "execution_count": 4,
   "metadata": {},
   "outputs": [
    {
     "data": {
      "text/plain": [
       "[{'id': '376606d1', 'created': 1722970907, 'messages': []},\n",
       " {'id': '787acc90',\n",
       "  'created': 1722968959,\n",
       "  'messages': [{'role': 'user',\n",
       "    'content': 'How are you doing?',\n",
       "    'created': 1722969739},\n",
       "   {'role': 'assistant',\n",
       "    'content': 'I am doing well thank you!',\n",
       "    'created': 1722969739},\n",
       "   {'role': 'user', 'content': 'How can you help me?', 'created': 1722970232},\n",
       "   {'role': 'assistant',\n",
       "    'content': 'I am a helpful assistant',\n",
       "    'created': 1722970232},\n",
       "   {'role': 'user', 'content': 'How can you help me?', 'created': 1722970907},\n",
       "   {'role': 'assistant',\n",
       "    'content': 'I am a helpful assistant',\n",
       "    'created': 1722970907}]}]"
      ]
     },
     "execution_count": 4,
     "metadata": {},
     "output_type": "execute_result"
    }
   ],
   "source": [
    "await get_all_chats()"
   ]
  },
  {
   "cell_type": "code",
   "execution_count": null,
   "metadata": {},
   "outputs": [],
   "source": []
  },
  {
   "cell_type": "code",
   "execution_count": 27,
   "metadata": {},
   "outputs": [],
   "source": [
    "import openai\n",
    "from app.openai import client, chat_stream\n",
    "from app.tools import QueryKnowledgeBaseTool\n",
    "from app.prompts import MAIN_SYSTEM_PROMPT"
   ]
  },
  {
   "cell_type": "code",
   "execution_count": 28,
   "metadata": {},
   "outputs": [
    {
     "name": "stdout",
     "output_type": "stream",
     "text": [
      "ParsedChatCompletionMessage[NoneType](content=None, refusal=None, role='assistant', function_call=None, tool_calls=[ParsedFunctionToolCall(id='call_bMXiDnhAzHOBq4NNhvg9cRvz', function=ParsedFunction(arguments='{\"query_input\":\"What is the most resilient parasite?\"}', name='QueryKnowledgeBaseTool', parsed_arguments=QueryKnowledgeBaseTool(query_input='What is the most resilient parasite?')), type='function', index=0)], parsed=None)\n"
     ]
    }
   ],
   "source": [
    "message = None\n",
    "messages = [\n",
    "    {'role': 'system', 'content': MAIN_SYSTEM_PROMPT},\n",
    "    {'role': 'user', 'content': 'What is the most resilient parasite?'}\n",
    "    # {'role': 'user', 'content': 'Greet me and then answer this question: What is the most resilient parasite?'}\n",
    "    # {'role': 'user', 'content': 'Hello there'}\n",
    "]\n",
    "async with chat_stream(\n",
    "    messages=messages,\n",
    "    tools=[openai.pydantic_function_tool(QueryKnowledgeBaseTool)],\n",
    "    tool_choice='auto'\n",
    ") as stream:\n",
    "    async for event in stream:\n",
    "        if event.type == 'content.delta':\n",
    "            print(event.delta, flush=True, end='')\n",
    "\n",
    "    assistant_message = (await stream.get_final_completion()).choices[0].message\n",
    "    print(assistant_message)\n",
    "\n",
    "# if assistant_message.tool_calls:\n",
    "#     display(assistant_message.tool_calls[0].function.parsed_arguments)"
   ]
  }
 ],
 "metadata": {
  "kernelspec": {
   "display_name": ".venv",
   "language": "python",
   "name": "python3"
  },
  "language_info": {
   "codemirror_mode": {
    "name": "ipython",
    "version": 3
   },
   "file_extension": ".py",
   "mimetype": "text/x-python",
   "name": "python",
   "nbconvert_exporter": "python",
   "pygments_lexer": "ipython3",
   "version": "3.12.4"
  }
 },
 "nbformat": 4,
 "nbformat_minor": 2
}
