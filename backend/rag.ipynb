{
 "cells": [
  {
   "cell_type": "code",
   "execution_count": 7,
   "metadata": {},
   "outputs": [],
   "source": [
    "from app.loader import add_docs_to_knowledge_base\n",
    "from app.db import reset_db, create_vectors_index, search_vector_db\n",
    "from app.openai import get_embedding\n",
    "import numpy as np"
   ]
  },
  {
   "cell_type": "code",
   "execution_count": 2,
   "metadata": {},
   "outputs": [
    {
     "name": "stdout",
     "output_type": "stream",
     "text": [
      "Index idx:vectors created successfully\n"
     ]
    }
   ],
   "source": [
    "reset_db()\n",
    "create_vectors_index()"
   ]
  },
  {
   "cell_type": "code",
   "execution_count": 3,
   "metadata": {},
   "outputs": [
    {
     "name": "stdout",
     "output_type": "stream",
     "text": [
      "Loading documents\n"
     ]
    },
    {
     "name": "stderr",
     "output_type": "stream",
     "text": [
      "  0%|          | 0/1 [00:00<?, ?it/s]"
     ]
    },
    {
     "name": "stderr",
     "output_type": "stream",
     "text": [
      "100%|██████████| 1/1 [00:07<00:00,  7.14s/it]\n"
     ]
    },
    {
     "name": "stdout",
     "output_type": "stream",
     "text": [
      "Loaded 1 PDF documents\n",
      "\n",
      "Splitting documents into chunks\n",
      "Inception.pdf: 127 chunks\n",
      "\n",
      "Total chunks: 127\n",
      "Min chunk size: 351 tokens\n",
      "Max chunk size: 512 tokens\n",
      "Average chunk size: 496 tokens\n",
      "\n",
      "Embedding chunks\n"
     ]
    },
    {
     "name": "stderr",
     "output_type": "stream",
     "text": [
      "100%|██████████| 127/127 [00:02<00:00, 49.55it/s]"
     ]
    },
    {
     "name": "stdout",
     "output_type": "stream",
     "text": [
      "\n",
      "Adding chunks to vector DB\n"
     ]
    },
    {
     "name": "stderr",
     "output_type": "stream",
     "text": [
      "\n"
     ]
    }
   ],
   "source": [
    "await add_docs_to_knowledge_base()"
   ]
  },
  {
   "cell_type": "code",
   "execution_count": 8,
   "metadata": {},
   "outputs": [
    {
     "data": {
      "text/plain": [
       "[{'score': 0.26692742109300005,\n",
       "  'chunk_id': '55bc5f28:0002',\n",
       "  'text': 'INT. SAME - MOMENTS LATER\\n\\nThe Elderly Man watches the Bearded Man WOLF down his food. \\nHe SLIDES the handgun down the table towards him.\\n\\nELDERLY JAPANESE MAN\\n\\n(in English)\\n\\nAre you here to kill me?\\n\\nThe Bearded Man glances up at him, then back to his food.\\n\\n\\x0c2.\\n\\nThe Elderly Japanese Man picks up the cone between thumb and \\nforefinger.\\n\\nI know what this is.\\n\\nELDERLY JAPANESE MAN\\n\\nHe SPINS it onto a table- it CIRCLES gracefully across the \\npolished ebony... a SPINNING TOP.\\n\\nELDERLY JAPANESE MAN\\n\\nI’ve seen one before. Many, many \\nyears ago...\\n\\nThe Elderly Japanese Man STARES at the top mesmerized.\\n\\nELDERLY JAPANESE MAN\\n\\nIt belonged to a man I met in a \\nhalf-remembered dream...\\n\\nMOVE IN on the GRACEFULLY SPINNING TOP...\\n\\nELDERLY JAPANESE MAN\\n\\nA man possessed of some radical \\nnotions...\\n\\nThe Elderly Japanese Man STARES, remembering... \\n\\nWhat’s the most resilient parasite?\\n\\nCOBB (V.O.)\\n\\nCUT TO:\\n\\nINT. SAME ELEGANT DINING ROOM - NIGHT (YEARS EARLIER)\\n\\nThe speaker, COBB, is 35, handsome, tailored. A young \\nJapanese man, SAITO, eats as he listens. \\n\\nA bacteria? A virus?\\n\\nCOBB\\n\\nCobb gestures at their feast with his wine glass-\\n\\nAn intestinal worm?\\n\\nCOBB\\n\\nSaito’s fork pauses, mid-air. Cobb GRINS. A third man is at \\nthe table- ARTHUR. He jumps in to save the pitch- \\n\\nWhat Mr. Cobb is trying to say-\\n\\nARTHUR\\n\\nAn idea.\\n\\nCOBB\\n\\nSaito looks at Cobb, curious.\\n\\n\\x0c3.\\n\\nCOBB\\n\\nResilient, highly contagious. Once \\nan idea’s taken hold in the brain \\nit’s almost impossible to \\neradicate. A person can cover it \\nup, ignore it- but it stays there. \\n\\nSAITO\\nBut surely-to forget...?\\n\\nCOBB\\n\\nInformation, yes. But an idea? \\nFully formed, understood? That \\nsticks...\\n\\n(taps forehead)\\n\\nIn there, somewhere.\\n\\nFor someone like you to steal?\\n\\nSAITO\\n\\nARTHUR',\n",
       "  'doc_name': 'Inception.pdf'},\n",
       " {'score': 0.17869412899000003,\n",
       "  'chunk_id': '55bc5f28:0067',\n",
       "  'text': \"How could they be trained?\\n\\nARIADNE \\n\\nARTHUR\\n\\nFischer's had an extractor teach \\nhis mind to defend itself. His \\nsubconscious is militarized. It \\nshould've shown on the research-\\n\\nCOBB \\nSo why the hell didn't it?!\\n\\nCalm down.\\n\\nARTHUR\\n\\nCOBB\\n\\nDon't tell me to calm down-you were \\nmeant to check Fischer's background \\nthoroughly. You can't make this \\nkind of mistake-we're not prepared \\nfor this kind of violence-\\n\\nARTHUR\\n\\nCobb, we've dealt with sub-security \\nbefore. We just have to be more-\\n\\nCOBB\\n\\nThis wasn't part of the plan, Arthur! \\n\\n(points at Saito)\\n\\nHe's dying!\\n\\nSo we put him out of his misery.\\n\\nEAMES  \\n\\n\\x0cEames steps into the room, pulls his gun and moves over \\nSaito.\\n\\n79.\\n\\nNo.\\n\\nCOBB\\n\\nEAMES\\n\\nHe's in agony. Let's wake him up-\\n\\nCobb GRABS Eames's arm.\\n\\nCOBB\\n\\nNo!\\n\\n(they lock eyes) \\nIt won't wake him up.\\n\\nEAMES\\n\\nWhat do you mean, it won't wake \\nhim? When you die in a dream you \\nwake up.\\n\\nYUSUF\\n\\nNot from this. We're too heavily \\nsedated to wake up that way.\\n\\nEames looks at Yusuf, then to Cobb.\\n\\nSo what happens if one of us dies?\\n\\nEAMES\\n\\nCOBB\\n\\nThat person doesn't wake up. Their \\nmind drops into Limbo.\\n\\nLimbo?\\n\\nARIADNE\\n\\nARTHUR \\nUnconstructed dream space.\\n\\nARIADNE \\nWhat's down there?\\n\\nARTHUR\\n\\nRaw, infinite subconscious. Nothing \\nthere but what was left behind by \\nanyone on the team who's been trapped \\nthere before. On this team... just \\nCobb.\\n\\nHow long would we be stuck there?\\n\\nARIADNE\\n\\n\\x0c80.\\n\\nYUSUF\\n\\nYou couldn't even think about \\ntrying to escape until the sedation \\neases-\\n\\nHow long?\\n\\nEAMES\\n\\nYUSUF\\n\\nDecades-it could be infinite-I \\ndon't know! Ask him-he's the one \\nwho's been there before!\\n\\nEames moves to Cobb. Looks him in the eye.\\n\\nEAMES\\n\\nGreat. So now we're stuck in \\nFischer's mind battling it out with \\nhis private army, and if we get hit \\nwe're stuck in Limbo 'til our \\nbrains dissolve into scrambled egg?\\n\\nCobb says nothing. Saito groans more loudly.\",\n",
       "  'doc_name': 'Inception.pdf'},\n",
       " {'score': 0.17557388544100005,\n",
       "  'chunk_id': '55bc5f28:0003',\n",
       "  'text': 'What Mr. Cobb is trying to say-\\n\\nARTHUR\\n\\nAn idea.\\n\\nCOBB\\n\\nSaito looks at Cobb, curious.\\n\\n\\x0c3.\\n\\nCOBB\\n\\nResilient, highly contagious. Once \\nan idea’s taken hold in the brain \\nit’s almost impossible to \\neradicate. A person can cover it \\nup, ignore it- but it stays there. \\n\\nSAITO\\nBut surely-to forget...?\\n\\nCOBB\\n\\nInformation, yes. But an idea? \\nFully formed, understood? That \\nsticks...\\n\\n(taps forehead)\\n\\nIn there, somewhere.\\n\\nFor someone like you to steal?\\n\\nSAITO\\n\\nARTHUR\\n\\nYes. In the dream state, conscious \\ndefenses are lowered and your \\nthoughts become vulnerable to \\ntheft. It’s called extraction.\\n\\nCOBB\\n\\nBut, Mr. Saito, we can train your \\nsubconscious to defend itself from \\neven the most skilled extractor.\\n\\nHow can you do that?\\n\\nSAITO\\n\\nCOBB\\n\\nBecause I am the most skilled \\nextractor. I know how to search \\nyour mind and find your secrets. I \\nknow the tricks, and I can teach \\nthem to your subconscious so that \\neven when you’re asleep, your guard \\nis never down. \\n\\nCobb leans forwards. Holding Saito’s gaze.\\n\\nCOBB\\n\\nBut if I’m going to help you, you \\nhave to be completely open to me. \\nI’ll need to know my way around \\nyour thoughts better than your \\nwife, your analyst, anyone. \\n\\n(gestures around)\\n\\nIf this is a dream and you’ve got a \\nsafe full of secrets, I need to \\nknow what’s in that safe. For this \\nto work, you have to let me in. \\n\\n\\x0c4.\\n\\nSaito gives this a flicker of a smile. Rises. A BODYGUARD \\nopens double doors which give onto a LAVISH PARTY.\\n\\nSAITO\\n\\nGentlemen. Enjoy your evening as I \\nconsider your proposal.\\n\\nThey watch Saito leave. Arthur turns to Cobb, worried-\\n\\nHe knows.\\n\\nARTHUR\\n\\nCobb motions silence. A TREMOR starts, they steady their \\nglasses, Cobb glances at his watch- THE SECOND HAND IS \\nFROZEN.\\n\\nARTHUR\\nWhat’s going on up there?\\n\\nAnd we-\\n\\nCUT TO:\\n\\nFILTHY BATHROOM - DAY (FEELS LIKE DIFFERENT TIME)',\n",
       "  'doc_name': 'Inception.pdf'},\n",
       " {'score': 0.16859436035200004,\n",
       "  'chunk_id': '55bc5f28:0044',\n",
       "  'text': \"52.\\n\\nEAMES \\n\\n(counting)\\n\\nEighteen, twenty-all connected, \\nbloody hell.\\n\\nYUSUF\\n\\nThey come every day. To share the \\ndream.\\n\\nYusuf nods at the Elderly Bald Man, who moves to the nearest \\nbed. Reaches out to the OCCUPANT. Gives his face a FIRM SLAP. \\nThe sleeper does not even stir.\\n\\nSee? Very stable.\\n\\nYUSUF\\n\\nHow long do they dream?\\n\\nCOBB \\n\\nThree, four hours. Every day.\\n\\nYUSUF \\n\\nHow long in dream time?\\n\\nCOBB \\n\\nYUSUF\\n\\nWith this compound... about forty \\nhours. Each and every day.\\n\\nSaito surveys the room, appalled.\\n\\nWhy do they do it?\\n\\nSAITO\\n\\nTell him, Mr. Cobb.\\n\\nYUSUF\\n\\nCOBB\\n\\nAfter a while...\\n\\n(looks at Saito)\\n\\nIt becomes the only way you can \\ndream.\\n\\nDo you still dream, Mr. Cobb?\\n\\nYUSUF \\n\\nCobb STARES at the sleepers. Uneasy.\\n\\nThey come here every day to sleep?\\n\\nEAMES\\n\\n\\x0cNo.\\n\\nELDERLY BALD MAN (O.S.)\\n\\nCobb turns to the Elderly Bald Man, who looks fondly at his \\ndreamers.\\n\\n53.\\n\\nELDERLY BALD MAN\\n\\nThey come to be woken up... the \\ndream has become their reality...\\n\\nThe Elderly Bald Man pokes a crooked finger at Cobb's chest.\\n\\nAnd who are you to say otherwise?\\n\\nELDERLY BALD MAN \\n\\nCobb STARES at the Elderly Bald Man. DISTURBED. Cobb turns to \\nYusuf. TOSSES him the bottle.\\n\\nCOBB \\nLet's see what you can do.\\n\\nINT. SAME - MOMENTS LATER\\n\\nCobb is lying on an empty cot, asleep. Yusuf stands over him. \\nAs we move in on Cobb's SLEEPING FACE we hear the sound of a \\nFREIGHT TRAIN, BUILDING, and we-\\n\\nCUT TO:\\n\\nEXT. WASTELAND - DAY\\n\\nCLOSE ON Cobb's face as he lies, EYES CLOSED, cheek pressed \\nto a METAL RAIL- THE SOUND OF THE TRAIN IS DEAFENING- Cobb is \\nBREATHING, BREATHING, BREATHING, and we-\\n\\nCUT TO:\\n\\nINT. BACK ROOM, PHARMACY - DAY\\n\\nCobb's eyes open. Yusuf is watching him.\\n\\nSharp, no?\\n\\nYUSUF\",\n",
       "  'doc_name': 'Inception.pdf'},\n",
       " {'score': 0.163617730141,\n",
       "  'chunk_id': '55bc5f28:0032',\n",
       "  'text': \"Several people around them ECHO Cobb's attitude...\\n\\nWhy not?\\n\\nARIADNE\\n\\nCOBB\\n\\nBecause building dreams out of your \\nown memories is the surest way to \\nlose your grip on what's real and \\nwhat's a dream.\\n\\nDid that happen to you?\\n\\nARIADNE\\n\\nCobb says nothing. He stands there, starinq at Ariadne. \\nPEOPLE around her stop and look at her, hostile.\\n\\nCOBB \\nLook, this isn't about me-\\n\\nCobb reaches for Ariadne's arm, turns her to him-\\n\\nARIADNE\\n\\nIs that why you need me to build \\nyour dreams?\\n\\n\\x0c37.\\n\\nA passerby GRABS Ariadne's shoulder-\\n\\nLeave her alone-\\n\\nCOBB\\n\\nMore of the crowd join in, PULLING at Ariadne, holding her \\narms open- Cobb PULLS people off- the crowd PUSHES him away- \\nCobb sees someone WALKING PURPOSEFULLY through the crowd \\ntowards the helpless, Ariadne- it is Mal. She approaches with \\neven strides- Ariadne stares at her, uneasy.\\n\\nWake me up, Cobb.\\n\\nARIADNE \\n\\nAs Mal walks, she pulls out a LARGE KNIFE-\\n\\nMal, no!\\n\\nCOBB\\n\\nWake me up!\\n\\nARIADNE\\n\\nAriadne SCREAMS as Mal LUNGES at her with the knife and we-\\n\\nCUT TO:\\n\\nINT. WORKSHOP-DAY\\n\\nAriadne WAKES, BREATHING HARD. Arthur moves to her-\\n\\nIt's okay.\\n\\nARTHUR\\n\\nWhy couldn’t I wake?\\n\\nARIADNE\\n\\nARTHUR\\n\\nThe only way to wake from inside \\nthe dream is to die.\\n\\nCobb, in the lawn chair opposite, PULLS his tubes out.\\n\\nShe'll need a totem.\\n\\nCOBB\\n\\nWhat?\\n\\nARIADNE\\n\\nARTHUR\\n\\nSome kind of personal icon. A small \\nobject that you can always have \\nwith you, and that no one else \\nknows,\\n\\nCobb gets to his feet, Ariadne stares at him, furious. He \\nheads to the bathroom.\\n\\n\\x0c38.\\n\\nARIADNE\\n\\nThat's some subconscious you've \\ngot, Cobb. \\n\\n(calls after him)\\nShe's a real charmer!\\n\\nSounds like you've met Mrs. Cobb.\\n\\nARTHUR \\n\\nARIADNE \\n\\n(surprised)\\nShe's his wife?\\n\\nArthur nods, pulling off Ariadne's tubes.\\n\\nARTHUR\\n\\nSo. A totem. You need something \\nsmall, potentially heavy...\",\n",
       "  'doc_name': 'Inception.pdf'},\n",
       " {'score': 0.16161584854099997,\n",
       "  'chunk_id': '55bc5f28:0053',\n",
       "  'text': \"My question is how we go down three \\nlayers with enough stability. Three \\nlayers down a little turbulence is \\ngonna translate into an earthquake. \\nThe dreams are gonna collapse with \\nthe slightest disturbance.\\n\\nYusuf clears his throat.\\n\\nYUSUF\\n\\nSedation. For sleep stable enough to \\ncreate three layers of dreaming...\\n\\nINT. MAKESHIFT LAB - DAY\\n\\nYusuf depresses a plunger. Arthur is SLEEPING in a chair.\\n\\nYUSUF (V.O.)\\n\\nWe will have to combine it with an \\nextremely powerful sedative....\\n\\nEames SLAPS Arthur, HARD. Arthur does not stir.\\n\\nINT. WORKSHOP - DAY\\n\\nArthur unconsciously rubs his cheek.\\n\\nYUSUF\\n\\nThe compound we'll be using to \\nshare the dream is an advanced \\nSomnacin derivative. It creates a \\nvery clear connection between \\ndreamers, whilst actually \\naccelerating brain function.\\n\\nBuying us more time in each level.\\n\\nCOBB\\n\\nYUSUF\\n\\nBrain function in the dream will be \\nabout twenty times normal. \\n(MORE)\\n\\nCUT TO:\\n\\n\\x0cYUSUF (CONT'D)\\nAnd when you go into a dream within \\nthat dream the effect is \\ncompounded.\\n\\n64.\\n\\nHow much time?\\n\\nARIADNE\\n\\nYUSUF\\n\\nThree dreams... that's ten hours, \\ntimes twenty, times twenty, times \\ntwenty...\\n\\nMath was never my strong suit.\\n\\nEAMES \\n\\nCOBB\\n\\nIt's basically a week one layer \\ndown, six months two layers down-\\n\\nARIADNE\\n\\nAnd ten years in the third level. \\nWho wants to spend ten years in a \\ndream?\\n\\nDepends on the dream.\\n\\nYUSUF \\n\\nEAMES\\n\\nIt's not going to take us long to \\ncrack Fischer open once we get \\ngoing. We'll be out in a couple \\ndays, max.\\n\\nARTHUR\\n\\nHow do we get out once we've made \\nthe plant?\\n\\n(to Cobb)\\n\\nI hope you've got something a \\nlittle more elegant in mind than \\nshooting me in the head like last \\ntime.\\n\\nArthur tilts back in his chair. Yusuf turns to Cobb.\\n\\nA kick.\\n\\nCOBB\\n\\nWhat's a kick?\\n\\nARIADNE\\n\\nEames slips his foot under Arthur's chair leg. TIPS it- \\nArthur's legs SHOOT UP INSTINCTIVELY for balance-\\n\\nThat, Ariadne, would be a kick.\\n\\nEAMES \\n\\n\\x0c65.\\n\\nCOBB\",\n",
       "  'doc_name': 'Inception.pdf'},\n",
       " {'score': 0.16049122810399996,\n",
       "  'chunk_id': '55bc5f28:0074',\n",
       "  'text': \"COBB\\n\\nWe were on a job. Exploring dreams \\nwithin dreams. But we didn't \\nunderstand how your mind can turn \\nhours into years. How you can get \\ntrapped. Trapped so deep that when \\nyou wash up on the shore of your \\nsubconscious...\\n\\nINSERT CUT: MAL LIES ON THE SAND, STARING UP AT A CLOUDLESS \\nSKY, WAVES WASHING OVER HER...\\n\\nYou can lose track of what's real.\\n\\nCOBB\\n\\nHow long were you stuck?\\n\\nARIADNE \\n\\nCobb pauses before he answers. Looks at Ariadne.\\n\\nFifty years.\\n\\nCOBB\\n\\nAriadne stares at him, incredulous.\\n\\nHow did you stand it?\\n\\nARIADNE \\n\\nINSERT CUT: COBB AND MAL BUILD A SANDCASTLE ON THE BEACH...\\n\\nCOBB\\n\\nWe built. We created a whole world \\nfor ourselves...\\n\\nINSERT CUT: COBB AND MAL WALK THROUGH A DESERTED CITY.\\n\\nCOBB\\n\\nIt's not so bad at first, being \\ngods. The problem is knowing that \\nit's not real. It became impossible \\nfor me to live like that.\\n\\n\\x0c88.\\n\\nBut not for her?\\n\\nARIADNE\\n\\nShe accepted it. At some point...\\n\\nCOBB\\n\\nINSERT CUT:\\n\\nINT. MAL'S CHILDHOOD HOME - DAY\\n\\nMal opens a DOLL'S HOUSE. Inside is a SAFE. She opens it- it \\nis empty. She pulls out her SPINNING TOP.\\n\\nCOBB (V.O.)\\n\\n...she'd decided to forget that our \\nworld wasn't real.\\n\\nMal places the top inside the safe. LOCKS IT AWAY...\\n\\nINT. OFFICE, WAREHOUSE - CONTINUOUS\\n\\nARIADNE \\nAnd when you finally woke up?\\n\\nCOBB\\n\\nTo wake from that. From decades \\nlived. To be old souls thrown back \\ninto youth. It was hard. At first \\nMal seemed okay. But I started to \\nrealize something was wrong. \\nFinally she admitted it. This idea \\nshe was possessed by. This simple \\nlittle idea that changed \\neverything...\\n\\nWhat was it?\\n\\nARIADNE\\n\\nCOBB\\n\\nThat our world was not real. No \\nmatter what I did, no matter what I \\nsaid, she was convinced that we \\nwere still in a dream. That we \\nneeded to wake up again...\\n\\nINT. COBB AND MAL'S KITCHEN - DAY (FLASHBACK)\\n\\nCobb is trying to calm Mal, who is hysterical.\",\n",
       "  'doc_name': 'Inception.pdf'},\n",
       " {'score': 0.15273118019099996,\n",
       "  'chunk_id': '55bc5f28:0114',\n",
       "  'text': '131.\\n\\nMAL\\n\\nThe smallest idea, such as... \"Your \\nworld is not real.\"\\n\\nCobb hands Ariadne his gun and moves towards Mal.\\n\\nMAL\\n\\nA simple little thought that \\nchanges everything...\\n\\nAriadne watches as Cobb sits down beside Mal. And we-\\n\\nCUT TO:\\n\\nINT. ELEVATOR SHAFT - NIGHT\\n\\nArthur FLIES back down the shaft to the top of the elevator, \\nSQUEEZES past the car to the bottom and starts to set the \\nMAIN CHARGES ACROSS THE BOTTOM OF THE CAR, and we-\\n\\nCUT TO:\\n\\nINT. PENTHOUSE (LIMBO) - DAY\\n\\nCobb touches Mal\\'s arm- she TURNS, angry. It is only now that \\nwe see that she holds a CARVING KNIFE. Mal looks at Ariadne.\\n\\nMAL\\n\\nSo certain of your world. Of what\\'s \\nreal. Do you think he is-\\n(points at Cobb)\\n\\nOr do you think he\\'s as lost as I \\nwas?\\n\\nI know what\\'s real.\\n\\nCOBB\\n\\nMAL\\n\\nWhat are the distinguishing \\ncharacteristics of a dream? Mutable \\nlaws of physics? Tell that to the \\nquantum physicists. Reappearance of \\nthe dead? What about heaven and \\nhell? Persecution of the dreamer, \\nthe creator, the messiah? They \\ncrucified Christ, didn\\'t they?\\n\\nI know what\\'s real.\\n\\nCOBB\\n\\nMAL\\n\\nNo creeping doubts? Not feeling \\npersecuted, Dom? Chased around the \\nglobe by anonymous corporations and \\npolice forces? The way the \\nprojections persecute the dreamer?\\n\\n\\x0cMal puts her hand on his face. Pitying.\\n\\n132.\\n\\nMAL\\n\\nAdmit it, Dom. You don\\'t believe in \\none reality anymore. So choose. \\nChoose your reality like I did. \\nChoose to be here. Choose me.\\n\\nCOBB \\n\\n(rising anger)\\n\\nI have chosen, Mal. Our children. I \\nhave to get back to them. Because \\nyou left them. You left us.\\n\\nMAL\\n\\nYou\\'re wrong, Dom. You\\'re confused... \\nour children are here-\\n\\nA child\\'s SHOUT draws Cobb- James CROUCHES on the porch, back \\nto us. Philippa joins him, also turned away. Cobb watches, \\nmoved. Mal leans in close.\\n\\nMAL \\n(whispers)\\n\\nAnd you\\'d like to see their faces \\nagain, wouldn\\'t you, Dom?\\n\\nCOBB',\n",
       "  'doc_name': 'Inception.pdf'},\n",
       " {'score': 0.15230596065500002,\n",
       "  'chunk_id': '55bc5f28:0068',\n",
       "  'text': \"How long would we be stuck there?\\n\\nARIADNE\\n\\n\\x0c80.\\n\\nYUSUF\\n\\nYou couldn't even think about \\ntrying to escape until the sedation \\neases-\\n\\nHow long?\\n\\nEAMES\\n\\nYUSUF\\n\\nDecades-it could be infinite-I \\ndon't know! Ask him-he's the one \\nwho's been there before!\\n\\nEames moves to Cobb. Looks him in the eye.\\n\\nEAMES\\n\\nGreat. So now we're stuck in \\nFischer's mind battling it out with \\nhis private army, and if we get hit \\nwe're stuck in Limbo 'til our \\nbrains dissolve into scrambled egg?\\n\\nCobb says nothing. Saito groans more loudly.\\n\\nARTHUR \\nLet's just get him upstairs.\\n\\nINT. OFFICE, WAREHOUSE - MOMENTS LATER\\n\\nSaito is laid out on an old desk. Arthur examines him. He \\nmotions to Ariadne. Eames watches Cobb.\\n\\nHold this. Firm pressure.\\n\\nARTHUR \\n\\nArthur turns to Cobb.\\n\\nARTHUR\\n\\nYou knew the risks and you didn't \\ntell us.\\n\\nCOBB\\n\\nThere wasn't meant to be any risk. \\nWe weren't supposed to be dealing \\nwith a load of gunnre.\\n\\nARTHUR\\nYou had no right.\\n\\nCOBB\\n\\nIt's the only way you can go three \\nlayers deep, Arthur.\\n\\nArthur turns to Yusuf, hostile.\\n\\n\\x0c81.\\n\\nAnd you. You went along with this?\\n\\nARTHUR\\n\\nI trusted him.\\n\\nYUSUF\\n\\nARTHUR\\n\\nYou trusted him? When? When he \\npromised you half his share?\\n\\nYUSUF \\n\\n(offended)\\n\\nNo! His whole share. Plus, he told \\nme he'd done it before.\\n\\nArthur turns to Cobb.\\n\\nARTHUR\\n\\nOh, yeah? With Mal? That worked out \\ngreat, didn't it, Cobb?\\n\\nCobb grabs Arthur.\\n\\nCOBB\\n\\nYou don't know anything about that. \\nThis was the only way to do this \\njob, Arthur. I did what I had to do \\nto get back to my children.\\n\\nEAMES\\n\\nSo you led us into a war zone with \\nno way out.\\n\\nCOBB\\n\\nWe have a way out. The kick. We \\njust have to push on, do the job as \\nfast as possible and get out using \\nthe kick.\\n\\nEAMES\\n\\nForget it. We go any deeper, we \\njust raise the stakes. I'm sitting \\nit out on this level.\\n\\nCOBB\",\n",
       "  'doc_name': 'Inception.pdf'},\n",
       " {'score': 0.14643526077299995,\n",
       "  'chunk_id': '55bc5f28:0073',\n",
       "  'text': \"When he wakes... his mind could be \\ncompletely gone.\\n\\nSAITO\\n\\nWhen... when we wake I will still \\nhonor our arrangement...\\n\\nCobb looks down at Saito sadly.\\n\\nCOBB\\n\\nSaito-san, when you wake you might \\nnot even remember that we had an \\narrangement. You'll have forgotten \\nthis world. Limbo will be your \\nreality. Lost there so long, you'll \\nhave become an old man...\\n\\nFilled with regret?\\n\\nSAITO\\n\\nCOBB \\nWaiting to die alone. Yes.\\n\\nSAITO\\n\\nThen I'll take the chance and come \\nback. And we'll be young men \\ntogether again.\\n\\nSaito smiles weakly. Cobb nods at him, turns to Ariadne.\\n\\nWhen were you trapped in Limbo?\\n\\nARIADNE \\n\\nCobb says nothing. Ariadne pulls him away from Saito.\\n\\nARIADNE\\n\\nCobb, you might have convinced the \\nrest of this team to carry on with \\nthe job. But they don't know the \\ntruth.\\n\\nWhat truth?\\n\\nCOBB\\n\\nARIADNE\\n\\nThe truth that at any minute you \\nmight bring a freight train through \\nthe wall. The truth that Mal is \\nbursting up through your \\nsubconscious. \\n\\n(MORE)\\n\\n\\x0c87.\\n\\nARIADNE (CONT'D)\\nThe truth that as we go deeper into \\nFischer, we're also going deeper \\ninto you-and I'm not sure we're \\ngoing to like what we find there.\\n\\nCobb stares back at Ariadne. Saying nothing.\\n\\nARIADNE\\n\\nThis is not just about Fischer, \\nit's about you. Tell me what \\nhappened to you and Mal. Trapped in \\nLimbo.\\n\\nCobb looks at her. Thinking it through.\\n\\nCOBB\\n\\nWe were on a job. Exploring dreams \\nwithin dreams. But we didn't \\nunderstand how your mind can turn \\nhours into years. How you can get \\ntrapped. Trapped so deep that when \\nyou wash up on the shore of your \\nsubconscious...\\n\\nINSERT CUT: MAL LIES ON THE SAND, STARING UP AT A CLOUDLESS \\nSKY, WAVES WASHING OVER HER...\\n\\nYou can lose track of what's real.\\n\\nCOBB\\n\\nHow long were you stuck?\\n\\nARIADNE \\n\\nCobb pauses before he answers. Looks at Ariadne.\\n\\nFifty years.\\n\\nCOBB\\n\\nAriadne stares at him, incredulous.\\n\\nHow did you stand it?\\n\\nARIADNE\",\n",
       "  'doc_name': 'Inception.pdf'}]"
      ]
     },
     "execution_count": 8,
     "metadata": {},
     "output_type": "execute_result"
    }
   ],
   "source": [
    "query = 'What is the most resilient parasite?'\n",
    "vector = await get_embedding(query)\n",
    "query_vector = np.array(vector, dtype=np.float32).tobytes()\n",
    "search_vector_db(query_vector)"
   ]
  },
  {
   "cell_type": "code",
   "execution_count": null,
   "metadata": {},
   "outputs": [],
   "source": []
  }
 ],
 "metadata": {
  "kernelspec": {
   "display_name": ".venv",
   "language": "python",
   "name": "python3"
  },
  "language_info": {
   "codemirror_mode": {
    "name": "ipython",
    "version": 3
   },
   "file_extension": ".py",
   "mimetype": "text/x-python",
   "name": "python",
   "nbconvert_exporter": "python",
   "pygments_lexer": "ipython3",
   "version": "3.12.4"
  }
 },
 "nbformat": 4,
 "nbformat_minor": 2
}
